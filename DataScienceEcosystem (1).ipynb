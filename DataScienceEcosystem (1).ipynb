{
 "cells": [
  {
   "cell_type": "markdown",
   "id": "83c2ed4a-265f-4ab0-bbcb-196e48f4750d",
   "metadata": {},
   "source": [
    "__Exercise - 1 - Creating this notebook as the Jupyter assignment__"
   ]
  },
  {
   "cell_type": "markdown",
   "id": "1da59270-b73c-460e-95fa-2b5beaef7352",
   "metadata": {},
   "source": [
    "__Exercise - 2 - Title of the Notebook__\n",
    "# Data Science Tools and Ecosystem"
   ]
  },
  {
   "cell_type": "markdown",
   "id": "f243eb87-743b-4c54-8526-2d624e7c3bbf",
   "metadata": {},
   "source": [
    "__Exercise - 3 - Introduction__\n",
    "\n",
    "#### In this notebook, Data Science Tools and Ecosystem are summarized."
   ]
  },
  {
   "cell_type": "markdown",
   "id": "a484554e-7b9f-4e2b-ad46-201cc00b1e92",
   "metadata": {},
   "source": [
    "__Exercise 10 - Code cell to multiply and add number.__\n",
    "\n",
    "__Obejectives:__\n",
    "\n",
    "- Various Data Science tools\n",
    "- API\n",
    "- IDE\n",
    "- Handling Jupyter Notebook\n",
    "- Various Data Science Languages\n",
    "- Some of the popular Data Science Languages are as follows:\n",
    "    1. Python\n",
    "    2. R\n",
    "    3. Julia"
   ]
  },
  {
   "cell_type": "markdown",
   "id": "cb3a8871-25ff-4117-98f0-feaec68ecee2",
   "metadata": {},
   "source": [
    "__Exercise 4 - List of the Data Science Languages__\n",
    "\n",
    "#### Some of the popular languages that Data Scientists use are as follows:\n",
    "\n",
    "1. Python\n",
    "2. R\n",
    "3. Julia"
   ]
  },
  {
   "cell_type": "markdown",
   "id": "422fd740-2cf8-42cf-baa7-1cde06a6bc1b",
   "metadata": {},
   "source": [
    "__Exercise 5 - List of the Data Science Libraries__\n",
    "\n",
    "#### Some of the popular libraries that Data Scientists use are as follows:\n",
    "\n",
    "1. Numpy\n",
    "2. Pandas\n",
    "3. Matplotlib\n",
    "4. Seaborn"
   ]
  },
  {
   "cell_type": "markdown",
   "id": "f378aeac-96c4-4ac5-91c9-a71d0287aa36",
   "metadata": {
    "tags": []
   },
   "source": [
    "__Exersice 6 - Table of Data Science Tools__\n",
    "\n",
    "The table is follows:\n",
    "|Data Science Tools|\n",
    "|------------------|\n",
    "|Pycharm|\n",
    "|Atom|\n",
    "|VSCode|"
   ]
  },
  {
   "cell_type": "markdown",
   "id": "7f562647-65f0-46bb-a6e2-e5c80e807f29",
   "metadata": {
    "tags": []
   },
   "source": [
    "__Exercise 7 - Introduction to the arithmatic Expressions__\n",
    "\n",
    "### Below are a few examples of evaluating arithmetic expressions in Python."
   ]
  },
  {
   "cell_type": "markdown",
   "id": "a013135c-c7a8-418e-8bd0-71ac7a4a131c",
   "metadata": {
    "tags": []
   },
   "source": [
    "__Exercise 8 - Code cell to multiply and add number.__"
   ]
  },
  {
   "cell_type": "code",
   "execution_count": 1,
   "id": "709d4250-147b-474f-96ce-f5c4fa9f0bda",
   "metadata": {
    "tags": []
   },
   "outputs": [
    {
     "name": "stdout",
     "output_type": "stream",
     "text": [
      "17\n"
     ]
    }
   ],
   "source": [
    "# This a simple arithmetic expression to mutiply then add integers #\n",
    "\n",
    "a = (3*4)+5\n",
    "print(a)"
   ]
  },
  {
   "cell_type": "markdown",
   "id": "0c729450-b1c7-4fba-b799-df2b849ece0f",
   "metadata": {},
   "source": [
    "__Exercise 9 - Code cell to convert minutes to hours.__"
   ]
  },
  {
   "cell_type": "code",
   "execution_count": 2,
   "id": "430cd1b5-80ea-4076-8ffc-967cbcaee16f",
   "metadata": {
    "tags": []
   },
   "outputs": [
    {
     "name": "stdout",
     "output_type": "stream",
     "text": [
      "3.3333333333333335\n"
     ]
    }
   ],
   "source": [
    "# This will convert 200 minutes to hours by diving by 60\n",
    "\n",
    "min = 200\n",
    "hour = min/60\n",
    "\n",
    "print(hour)"
   ]
  },
  {
   "cell_type": "markdown",
   "id": "3cd2f5a5-a9d1-4e1d-ac68-394f12311d67",
   "metadata": {},
   "source": [
    "__Exercise 11 - Cell to indicate author's name.__\n",
    "\n",
    "## Author\n",
    "Jeetendra Singh"
   ]
  },
  {
   "cell_type": "code",
   "execution_count": null,
   "id": "6cb88d75-1af7-4352-acf5-d767d63e56e0",
   "metadata": {},
   "outputs": [],
   "source": []
  }
 ],
 "metadata": {
  "kernelspec": {
   "display_name": "Python",
   "language": "python",
   "name": "conda-env-python-py"
  },
  "language_info": {
   "codemirror_mode": {
    "name": "ipython",
    "version": 3
   },
   "file_extension": ".py",
   "mimetype": "text/x-python",
   "name": "python",
   "nbconvert_exporter": "python",
   "pygments_lexer": "ipython3",
   "version": "3.7.12"
  }
 },
 "nbformat": 4,
 "nbformat_minor": 5
}
