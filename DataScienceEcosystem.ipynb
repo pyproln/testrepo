Exercise - 1 - Creating this notebook as the Jupyter assignment

Exercise - 2 - Title of the Notebook

Data Science Tools and Ecosystem
Exercise - 3 - Introduction

In this notebook, Data Science Tools and Ecosystem are summarized.
Exercise 10 - Code cell to multiply and add number.

Obejectives:

Various Data Science tools
API
IDE
Handling Jupyter Notebook
Various Data Science Languages
Some of the popular Data Science Languages are as follows:
Python
R
Julia
Exercise 4 - List of the Data Science Languages

Some of the popular languages that Data Scientists use are as follows:
Python
R
Julia
Exercise 5 - List of the Data Science Libraries

Some of the popular libraries that Data Scientists use are as follows:
Numpy
Pandas
Matplotlib
Seaborn
Exersice 6 - Table of Data Science Tools

The table is follows:

Data Science Tools
Pycharm
Atom
VSCode
Exercise 7 - Introduction to the arithmatic Expressions

Below are a few examples of evaluating arithmetic expressions in Python.
Exercise 8 - Code cell to multiply and add number.

# This a simple arithmetic expression to mutiply then add integers #
​
a = (3*4)+5
print(a)
17
Exercise 9 - Code cell to convert minutes to hours.

# This will convert 200 minutes to hours by diving by 60
​
min = 200
hour = min/60
​
print(hour)
3.3333333333333335
Exercise 11 - Cell to indicate author's name.

Author
Jeetendra Singh
